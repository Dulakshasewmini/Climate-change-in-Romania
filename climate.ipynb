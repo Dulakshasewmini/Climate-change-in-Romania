{
  "nbformat": 4,
  "nbformat_minor": 0,
  "metadata": {
    "colab": {
      "provenance": []
    },
    "kernelspec": {
      "name": "python3",
      "display_name": "Python 3"
    },
    "language_info": {
      "name": "python"
    }
  },
  "cells": [
    {
      "cell_type": "markdown",
      "source": [
        "**Analyzing Climate Change Data for Romania**\n",
        "\n",
        "\n",
        "01. First, install essential libraries\n",
        "02. installed OpenJDK 8\n"
      ],
      "metadata": {
        "id": "SO8hZeXo2l_v"
      }
    },
    {
      "cell_type": "code",
      "execution_count": null,
      "metadata": {
        "id": "wLpYJCnJKjr5"
      },
      "outputs": [],
      "source": [
        "# installs the pyspark library\n",
        "!pip install pyspark --quiet\n",
        "#installs PyDrive, a library for accessing Google Drive files\n",
        "!pip install -U -q PyDrive --quiet\n",
        "#installs OpenJDK 8 (Java Development Kit) without a graphical interface\n",
        "!apt install openjdk-8-jdk-headless &> /dev/null"
      ]
    },
    {
      "cell_type": "code",
      "source": [
        "import os\n",
        "os.environ[\"JAVA_HOME\"] = \"/usr/lib/jvm/java-8-openjdk-amd64\""
      ],
      "metadata": {
        "id": "i2L5Kr32K5xN"
      },
      "execution_count": null,
      "outputs": []
    },
    {
      "cell_type": "markdown",
      "source": [
        "03. Created a Spark session.\n",
        " session name =  'Romania climate change"
      ],
      "metadata": {
        "id": "ndqHZwXa4qAX"
      }
    },
    {
      "cell_type": "code",
      "source": [
        "from pyspark.sql import SparkSession\n",
        "\n",
        "spark = SparkSession \\\n",
        "    .builder \\\n",
        "    .appName(\"Romania climate change\") \\\n",
        "    .config(\"spark.ui.port\", \"4050\") \\\n",
        "    .getOrCreate()"
      ],
      "metadata": {
        "id": "7LnHP5cxMHKj"
      },
      "execution_count": null,
      "outputs": []
    },
    {
      "cell_type": "code",
      "source": [
        "# Load CSV into Spark DataFrame with inferred data types and headers\n",
        "df = spark.read.csv('/content/Romania Climate Change from 1901-2020.csv', header=True, inferSchema=True) #Automatically infers the data types of each column.\n",
        "df.show()"
      ],
      "metadata": {
        "colab": {
          "base_uri": "https://localhost:8080/"
        },
        "id": "Rgq_cg7eNEfF",
        "outputId": "149adac7-39c4-42f3-ddbd-bce035697fae"
      },
      "execution_count": null,
      "outputs": [
        {
          "output_type": "stream",
          "name": "stdout",
          "text": [
            "+-----+---------------+-------------+---------+------+-----+-----+-----+-----+-----+------+-----+-----+-----+-----+-----+-----+\n",
            "|index| County/Country|     Variable|   Period|Annual|  Jan|  Feb|  Mar|  Apr|  May|   Jun|  Jul|  Aug|  Sep|  Oct|  Nov|  Dec|\n",
            "+-----+---------------+-------------+---------+------+-----+-----+-----+-----+-----+------+-----+-----+-----+-----+-----+-----+\n",
            "|    0|        Romania|Precipitation|1901-1930|643.09|36.68|31.14|34.81|51.33|73.27| 92.86|76.01|64.93|50.44|49.99|43.14|38.49|\n",
            "|    1|       Botosani|Precipitation|1901-1930|527.69| 26.7|23.78|26.15| 45.6|60.45| 77.93|71.42|55.98|44.89| 34.6|32.24|27.93|\n",
            "|    2|          Neamt|Precipitation|1901-1930|639.03|30.98|26.67| 31.6|53.65|77.13| 94.88|86.84|73.57|51.56|46.33|35.58|30.25|\n",
            "|    3|Bistrita-nasaud|Precipitation|1901-1930|787.35|47.64|37.29|41.27|63.77|86.45|109.98|94.99|87.35|60.21|60.76| 50.7|46.94|\n",
            "|    4|          Mures|Precipitation|1901-1930|683.61|37.94|29.43|33.47|54.44|77.86|100.17|88.94|76.63|53.91|54.49|40.22|36.12|\n",
            "|    5|          Bihor|Precipitation|1901-1930|668.17| 40.1| 34.6|37.47| 54.9|68.38| 93.86|72.33|69.28|53.31|52.18|46.27| 45.5|\n",
            "|    6|      Mehedinti|Precipitation|1901-1930|659.36|38.03|34.76| 38.8|54.41|77.25| 95.64| 67.0|58.65|52.59| 53.9|45.94|42.38|\n",
            "|    7|      Maramures|Precipitation|1901-1930|870.13|53.48|44.22|48.22| 70.4|91.77|117.75|98.24|97.32|67.59|66.91| 58.6|55.64|\n",
            "|    8|           Iasi|Precipitation|1901-1930|535.81| 26.4|23.56|26.76|47.37|61.81| 82.28|70.76|57.45|44.11|34.69|34.02| 26.6|\n",
            "|    9|          Bacau|Precipitation|1901-1930|589.26| 28.0|24.14|29.36|48.85|72.46|  88.5|79.57| 65.6|47.45|42.38|35.05|27.91|\n",
            "|   10|          Arges|Precipitation|1901-1930|718.76|39.31|32.79|37.67|55.33|85.52|106.37| 92.7|72.65|57.21|55.51|44.55|39.16|\n",
            "|   11|           Arad|Precipitation|1901-1930|633.53|36.31| 31.9|34.97|53.75|67.77| 89.13|67.88|62.72|51.28|50.68|43.54|43.59|\n",
            "|   12|       Ialomita|Precipitation|1901-1930|491.41|30.37|24.29| 29.1|35.11|57.08| 70.34|53.14|43.97|35.73|38.89|41.19| 32.2|\n",
            "|   13|           Alba|Precipitation|1901-1930|762.71|39.65|35.49| 37.7|60.97|88.64|115.02|95.09| 83.9|60.79|60.66| 43.6| 41.2|\n",
            "|   14|      Hunedoara|Precipitation|1901-1930|801.01|42.16|39.45|40.01|63.79|93.63| 119.8| 95.7|86.04|65.62|62.55|47.04|45.22|\n",
            "|   15|       Harghita|Precipitation|1901-1930| 724.4|39.08|31.93|37.02|56.46|84.67| 106.8|96.16|81.51|57.92|55.65|40.21| 37.0|\n",
            "|   16|           Gorj|Precipitation|1901-1930|767.82|41.52| 38.5|40.88|62.36|91.27|114.62|89.27|75.95|61.17|61.81|46.69|43.79|\n",
            "|   17|        Giurgiu|Precipitation|1901-1930|569.89| 38.2|29.28|34.95|42.91|67.32| 78.14|59.82| 50.7|40.68| 41.7|47.73|38.47|\n",
            "|   18|         Galati|Precipitation|1901-1930|494.15|28.55|24.32|27.22|39.33|54.92| 75.48|56.92|45.66|39.11|35.99|36.97|29.68|\n",
            "|   19|        Vrancea|Precipitation|1901-1930| 601.4|32.84|26.72|31.54|47.42|72.31| 89.82|76.79|60.92|46.01|43.47|40.66|32.91|\n",
            "+-----+---------------+-------------+---------+------+-----+-----+-----+-----+-----+------+-----+-----+-----+-----+-----+-----+\n",
            "only showing top 20 rows\n",
            "\n"
          ]
        }
      ]
    },
    {
      "cell_type": "code",
      "source": [
        "df.show(10, truncate=False)"
      ],
      "metadata": {
        "colab": {
          "base_uri": "https://localhost:8080/"
        },
        "id": "uh53ln7jN6X0",
        "outputId": "92d61682-5738-4a5c-e454-967146ed5516"
      },
      "execution_count": null,
      "outputs": [
        {
          "output_type": "stream",
          "name": "stdout",
          "text": [
            "+-----+---------------+-------------+---------+------+-----+-----+-----+-----+-----+------+-----+-----+-----+-----+-----+-----+\n",
            "|index|County/Country |Variable     |Period   |Annual|Jan  |Feb  |Mar  |Apr  |May  |Jun   |Jul  |Aug  |Sep  |Oct  |Nov  |Dec  |\n",
            "+-----+---------------+-------------+---------+------+-----+-----+-----+-----+-----+------+-----+-----+-----+-----+-----+-----+\n",
            "|0    |Romania        |Precipitation|1901-1930|643.09|36.68|31.14|34.81|51.33|73.27|92.86 |76.01|64.93|50.44|49.99|43.14|38.49|\n",
            "|1    |Botosani       |Precipitation|1901-1930|527.69|26.7 |23.78|26.15|45.6 |60.45|77.93 |71.42|55.98|44.89|34.6 |32.24|27.93|\n",
            "|2    |Neamt          |Precipitation|1901-1930|639.03|30.98|26.67|31.6 |53.65|77.13|94.88 |86.84|73.57|51.56|46.33|35.58|30.25|\n",
            "|3    |Bistrita-nasaud|Precipitation|1901-1930|787.35|47.64|37.29|41.27|63.77|86.45|109.98|94.99|87.35|60.21|60.76|50.7 |46.94|\n",
            "|4    |Mures          |Precipitation|1901-1930|683.61|37.94|29.43|33.47|54.44|77.86|100.17|88.94|76.63|53.91|54.49|40.22|36.12|\n",
            "|5    |Bihor          |Precipitation|1901-1930|668.17|40.1 |34.6 |37.47|54.9 |68.38|93.86 |72.33|69.28|53.31|52.18|46.27|45.5 |\n",
            "|6    |Mehedinti      |Precipitation|1901-1930|659.36|38.03|34.76|38.8 |54.41|77.25|95.64 |67.0 |58.65|52.59|53.9 |45.94|42.38|\n",
            "|7    |Maramures      |Precipitation|1901-1930|870.13|53.48|44.22|48.22|70.4 |91.77|117.75|98.24|97.32|67.59|66.91|58.6 |55.64|\n",
            "|8    |Iasi           |Precipitation|1901-1930|535.81|26.4 |23.56|26.76|47.37|61.81|82.28 |70.76|57.45|44.11|34.69|34.02|26.6 |\n",
            "|9    |Bacau          |Precipitation|1901-1930|589.26|28.0 |24.14|29.36|48.85|72.46|88.5  |79.57|65.6 |47.45|42.38|35.05|27.91|\n",
            "+-----+---------------+-------------+---------+------+-----+-----+-----+-----+-----+------+-----+-----+-----+-----+-----+-----+\n",
            "only showing top 10 rows\n",
            "\n"
          ]
        }
      ]
    },
    {
      "cell_type": "code",
      "source": [
        "df.columns"
      ],
      "metadata": {
        "colab": {
          "base_uri": "https://localhost:8080/"
        },
        "id": "-Rdbd6t-OiqZ",
        "outputId": "645e9da3-e2b5-4008-e837-abb04387842f"
      },
      "execution_count": null,
      "outputs": [
        {
          "output_type": "execute_result",
          "data": {
            "text/plain": [
              "['index',\n",
              " 'County/Country',\n",
              " 'Variable',\n",
              " 'Period',\n",
              " 'Annual',\n",
              " 'Jan',\n",
              " 'Feb',\n",
              " 'Mar',\n",
              " 'Apr',\n",
              " 'May',\n",
              " 'Jun',\n",
              " 'Jul',\n",
              " 'Aug',\n",
              " 'Sep',\n",
              " 'Oct',\n",
              " 'Nov',\n",
              " 'Dec']"
            ]
          },
          "metadata": {},
          "execution_count": 76
        }
      ]
    },
    {
      "cell_type": "code",
      "source": [
        "df.dtypes"
      ],
      "metadata": {
        "colab": {
          "base_uri": "https://localhost:8080/"
        },
        "id": "iEKuMB5BOnyd",
        "outputId": "f4e67cf7-37b3-433f-90a8-acefd7f4cd8a"
      },
      "execution_count": null,
      "outputs": [
        {
          "output_type": "execute_result",
          "data": {
            "text/plain": [
              "[('index', 'int'),\n",
              " ('County/Country', 'string'),\n",
              " ('Variable', 'string'),\n",
              " ('Period', 'string'),\n",
              " ('Annual', 'double'),\n",
              " ('Jan', 'double'),\n",
              " ('Feb', 'double'),\n",
              " ('Mar', 'double'),\n",
              " ('Apr', 'double'),\n",
              " ('May', 'double'),\n",
              " ('Jun', 'double'),\n",
              " ('Jul', 'double'),\n",
              " ('Aug', 'double'),\n",
              " ('Sep', 'double'),\n",
              " ('Oct', 'double'),\n",
              " ('Nov', 'double'),\n",
              " ('Dec', 'double')]"
            ]
          },
          "metadata": {},
          "execution_count": 77
        }
      ]
    },
    {
      "cell_type": "code",
      "source": [
        "df.printSchema()"
      ],
      "metadata": {
        "colab": {
          "base_uri": "https://localhost:8080/"
        },
        "id": "8k0S-1B0Ota4",
        "outputId": "8d11b101-5286-4e24-e8e1-832998cbb6ac"
      },
      "execution_count": null,
      "outputs": [
        {
          "output_type": "stream",
          "name": "stdout",
          "text": [
            "root\n",
            " |-- index: integer (nullable = true)\n",
            " |-- County/Country: string (nullable = true)\n",
            " |-- Variable: string (nullable = true)\n",
            " |-- Period: string (nullable = true)\n",
            " |-- Annual: double (nullable = true)\n",
            " |-- Jan: double (nullable = true)\n",
            " |-- Feb: double (nullable = true)\n",
            " |-- Mar: double (nullable = true)\n",
            " |-- Apr: double (nullable = true)\n",
            " |-- May: double (nullable = true)\n",
            " |-- Jun: double (nullable = true)\n",
            " |-- Jul: double (nullable = true)\n",
            " |-- Aug: double (nullable = true)\n",
            " |-- Sep: double (nullable = true)\n",
            " |-- Oct: double (nullable = true)\n",
            " |-- Nov: double (nullable = true)\n",
            " |-- Dec: double (nullable = true)\n",
            "\n"
          ]
        }
      ]
    },
    {
      "cell_type": "code",
      "source": [
        "# Importing necessary types from PySpark SQL\n",
        "from pyspark.sql.types import *\n",
        "df.columns"
      ],
      "metadata": {
        "colab": {
          "base_uri": "https://localhost:8080/"
        },
        "id": "HeyJAmnFQq1c",
        "outputId": "9ed07b76-c760-4d24-b8c0-23a8c7b938cf"
      },
      "execution_count": null,
      "outputs": [
        {
          "output_type": "execute_result",
          "data": {
            "text/plain": [
              "['index',\n",
              " 'County/Country',\n",
              " 'Variable',\n",
              " 'Period',\n",
              " 'Annual',\n",
              " 'Jan',\n",
              " 'Feb',\n",
              " 'Mar',\n",
              " 'Apr',\n",
              " 'May',\n",
              " 'Jun',\n",
              " 'Jul',\n",
              " 'Aug',\n",
              " 'Sep',\n",
              " 'Oct',\n",
              " 'Nov',\n",
              " 'Dec']"
            ]
          },
          "metadata": {},
          "execution_count": 79
        }
      ]
    },
    {
      "cell_type": "code",
      "source": [
        "# Creating a list of the schema in the format column_name, data_type\n",
        "labels = [\n",
        "     ('index',IntegerType()),\n",
        "     ('County/Country',StringType()),\n",
        "     ('Variable',StringType()),\n",
        "     ('Period',StringType()),\n",
        "     ('Annual',StringType()),\n",
        "     ('Jan',StringType()),\n",
        "     ('Feb' , StringType()),\n",
        "     ('Mar', StringType()),\n",
        "     ('Apr', DoubleType()),\n",
        "    ('May', DoubleType()),\n",
        " ('Jun', DoubleType()),\n",
        " ('Jul', DoubleType()),\n",
        " ('Aug', DoubleType()),\n",
        " ('Sep', DoubleType()),\n",
        " ('Oct', DoubleType()),\n",
        " ('Nov', DoubleType()),\n",
        " ('Dec', DoubleType()),\n",
        "]"
      ],
      "metadata": {
        "id": "Cw5qOu_WQz9v"
      },
      "execution_count": null,
      "outputs": []
    },
    {
      "cell_type": "code",
      "source": [
        "# Creating the schema that will be passed when reading the csv\n",
        "schema = StructType([StructField (x[0], x[1], True) for x in labels])\n",
        "schema"
      ],
      "metadata": {
        "colab": {
          "base_uri": "https://localhost:8080/"
        },
        "id": "1SlczeHsQ_Vh",
        "outputId": "0e8998b1-1227-4b63-f387-9955968252e0"
      },
      "execution_count": null,
      "outputs": [
        {
          "output_type": "execute_result",
          "data": {
            "text/plain": [
              "StructType([StructField('index', IntegerType(), True), StructField('County/Country', StringType(), True), StructField('Variable', StringType(), True), StructField('Period', StringType(), True), StructField('Annual', StringType(), True), StructField('Jan', StringType(), True), StructField('Feb', StringType(), True), StructField('Mar', StringType(), True), StructField('Apr', DoubleType(), True), StructField('May', DoubleType(), True), StructField('Jun', DoubleType(), True), StructField('Jul', DoubleType(), True), StructField('Aug', DoubleType(), True), StructField('Sep', DoubleType(), True), StructField('Oct', DoubleType(), True), StructField('Nov', DoubleType(), True), StructField('Dec', DoubleType(), True)])"
            ]
          },
          "metadata": {},
          "execution_count": 81
        }
      ]
    },
    {
      "cell_type": "code",
      "source": [
        "df.show(truncate=False)"
      ],
      "metadata": {
        "colab": {
          "base_uri": "https://localhost:8080/"
        },
        "id": "9ZTXqx_6RxZh",
        "outputId": "b50eaf3c-ce9f-47c2-bb06-e84bd41736c2"
      },
      "execution_count": null,
      "outputs": [
        {
          "output_type": "stream",
          "name": "stdout",
          "text": [
            "+-----+---------------+-------------+---------+------+-----+-----+-----+-----+-----+------+-----+-----+-----+-----+-----+-----+\n",
            "|index|County/Country |Variable     |Period   |Annual|Jan  |Feb  |Mar  |Apr  |May  |Jun   |Jul  |Aug  |Sep  |Oct  |Nov  |Dec  |\n",
            "+-----+---------------+-------------+---------+------+-----+-----+-----+-----+-----+------+-----+-----+-----+-----+-----+-----+\n",
            "|0    |Romania        |Precipitation|1901-1930|643.09|36.68|31.14|34.81|51.33|73.27|92.86 |76.01|64.93|50.44|49.99|43.14|38.49|\n",
            "|1    |Botosani       |Precipitation|1901-1930|527.69|26.7 |23.78|26.15|45.6 |60.45|77.93 |71.42|55.98|44.89|34.6 |32.24|27.93|\n",
            "|2    |Neamt          |Precipitation|1901-1930|639.03|30.98|26.67|31.6 |53.65|77.13|94.88 |86.84|73.57|51.56|46.33|35.58|30.25|\n",
            "|3    |Bistrita-nasaud|Precipitation|1901-1930|787.35|47.64|37.29|41.27|63.77|86.45|109.98|94.99|87.35|60.21|60.76|50.7 |46.94|\n",
            "|4    |Mures          |Precipitation|1901-1930|683.61|37.94|29.43|33.47|54.44|77.86|100.17|88.94|76.63|53.91|54.49|40.22|36.12|\n",
            "|5    |Bihor          |Precipitation|1901-1930|668.17|40.1 |34.6 |37.47|54.9 |68.38|93.86 |72.33|69.28|53.31|52.18|46.27|45.5 |\n",
            "|6    |Mehedinti      |Precipitation|1901-1930|659.36|38.03|34.76|38.8 |54.41|77.25|95.64 |67.0 |58.65|52.59|53.9 |45.94|42.38|\n",
            "|7    |Maramures      |Precipitation|1901-1930|870.13|53.48|44.22|48.22|70.4 |91.77|117.75|98.24|97.32|67.59|66.91|58.6 |55.64|\n",
            "|8    |Iasi           |Precipitation|1901-1930|535.81|26.4 |23.56|26.76|47.37|61.81|82.28 |70.76|57.45|44.11|34.69|34.02|26.6 |\n",
            "|9    |Bacau          |Precipitation|1901-1930|589.26|28.0 |24.14|29.36|48.85|72.46|88.5  |79.57|65.6 |47.45|42.38|35.05|27.91|\n",
            "|10   |Arges          |Precipitation|1901-1930|718.76|39.31|32.79|37.67|55.33|85.52|106.37|92.7 |72.65|57.21|55.51|44.55|39.16|\n",
            "|11   |Arad           |Precipitation|1901-1930|633.53|36.31|31.9 |34.97|53.75|67.77|89.13 |67.88|62.72|51.28|50.68|43.54|43.59|\n",
            "|12   |Ialomita       |Precipitation|1901-1930|491.41|30.37|24.29|29.1 |35.11|57.08|70.34 |53.14|43.97|35.73|38.89|41.19|32.2 |\n",
            "|13   |Alba           |Precipitation|1901-1930|762.71|39.65|35.49|37.7 |60.97|88.64|115.02|95.09|83.9 |60.79|60.66|43.6 |41.2 |\n",
            "|14   |Hunedoara      |Precipitation|1901-1930|801.01|42.16|39.45|40.01|63.79|93.63|119.8 |95.7 |86.04|65.62|62.55|47.04|45.22|\n",
            "|15   |Harghita       |Precipitation|1901-1930|724.4 |39.08|31.93|37.02|56.46|84.67|106.8 |96.16|81.51|57.92|55.65|40.21|37.0 |\n",
            "|16   |Gorj           |Precipitation|1901-1930|767.82|41.52|38.5 |40.88|62.36|91.27|114.62|89.27|75.95|61.17|61.81|46.69|43.79|\n",
            "|17   |Giurgiu        |Precipitation|1901-1930|569.89|38.2 |29.28|34.95|42.91|67.32|78.14 |59.82|50.7 |40.68|41.7 |47.73|38.47|\n",
            "|18   |Galati         |Precipitation|1901-1930|494.15|28.55|24.32|27.22|39.33|54.92|75.48 |56.92|45.66|39.11|35.99|36.97|29.68|\n",
            "|19   |Vrancea        |Precipitation|1901-1930|601.4 |32.84|26.72|31.54|47.42|72.31|89.82 |76.79|60.92|46.01|43.47|40.66|32.91|\n",
            "+-----+---------------+-------------+---------+------+-----+-----+-----+-----+-----+------+-----+-----+-----+-----+-----+-----+\n",
            "only showing top 20 rows\n",
            "\n"
          ]
        }
      ]
    },
    {
      "cell_type": "code",
      "source": [
        "# Displaying the column name 'County/Country' as a string\n",
        "# Column name is case sensitive in this usage\n",
        "print('Weather Details')\n",
        "\n",
        "# If there are special characters in the column name\n",
        "df.select(\"`County/Country`\").show(truncate=False)\n",
        "# Displaying the contents of the selected column"
      ],
      "metadata": {
        "colab": {
          "base_uri": "https://localhost:8080/"
        },
        "id": "vygHhQN-SpqE",
        "outputId": "47984d80-067a-47c1-dd86-9362acfb5e3c"
      },
      "execution_count": null,
      "outputs": [
        {
          "output_type": "stream",
          "name": "stdout",
          "text": [
            "Weather Details\n",
            "+---------------+\n",
            "|County/Country |\n",
            "+---------------+\n",
            "|Romania        |\n",
            "|Botosani       |\n",
            "|Neamt          |\n",
            "|Bistrita-nasaud|\n",
            "|Mures          |\n",
            "|Bihor          |\n",
            "|Mehedinti      |\n",
            "|Maramures      |\n",
            "|Iasi           |\n",
            "|Bacau          |\n",
            "|Arges          |\n",
            "|Arad           |\n",
            "|Ialomita       |\n",
            "|Alba           |\n",
            "|Hunedoara      |\n",
            "|Harghita       |\n",
            "|Gorj           |\n",
            "|Giurgiu        |\n",
            "|Galati         |\n",
            "|Vrancea        |\n",
            "+---------------+\n",
            "only showing top 20 rows\n",
            "\n"
          ]
        }
      ]
    },
    {
      "cell_type": "code",
      "source": [
        "#Selecting Multiple Columns\n",
        "\n",
        "# Column name is case sensitive in this usage\n",
        "print('Weather Details')\n",
        "\n",
        "df.select('index', '`County/Country`').show(truncate=False)"
      ],
      "metadata": {
        "colab": {
          "base_uri": "https://localhost:8080/"
        },
        "id": "7x_zNvLDYHve",
        "outputId": "1d75fce5-a5a5-49bf-ac9d-b6a47907cce6"
      },
      "execution_count": null,
      "outputs": [
        {
          "output_type": "stream",
          "name": "stdout",
          "text": [
            "Weather Details\n",
            "+-----+---------------+\n",
            "|index|County/Country |\n",
            "+-----+---------------+\n",
            "|0    |Romania        |\n",
            "|1    |Botosani       |\n",
            "|2    |Neamt          |\n",
            "|3    |Bistrita-nasaud|\n",
            "|4    |Mures          |\n",
            "|5    |Bihor          |\n",
            "|6    |Mehedinti      |\n",
            "|7    |Maramures      |\n",
            "|8    |Iasi           |\n",
            "|9    |Bacau          |\n",
            "|10   |Arges          |\n",
            "|11   |Arad           |\n",
            "|12   |Ialomita       |\n",
            "|13   |Alba           |\n",
            "|14   |Hunedoara      |\n",
            "|15   |Harghita       |\n",
            "|16   |Gorj           |\n",
            "|17   |Giurgiu        |\n",
            "|18   |Galati         |\n",
            "|19   |Vrancea        |\n",
            "+-----+---------------+\n",
            "only showing top 20 rows\n",
            "\n"
          ]
        }
      ]
    },
    {
      "cell_type": "code",
      "source": [
        "df.show()"
      ],
      "metadata": {
        "colab": {
          "base_uri": "https://localhost:8080/"
        },
        "id": "LW8frroTYRUL",
        "outputId": "00d336c2-8350-48e5-d236-174c60c0465e"
      },
      "execution_count": null,
      "outputs": [
        {
          "output_type": "stream",
          "name": "stdout",
          "text": [
            "+-----+---------------+-------------+---------+------+-----+-----+-----+-----+-----+------+-----+-----+-----+-----+-----+-----+\n",
            "|index| County/Country|     Variable|   Period|Annual|  Jan|  Feb|  Mar|  Apr|  May|   Jun|  Jul|  Aug|  Sep|  Oct|  Nov|  Dec|\n",
            "+-----+---------------+-------------+---------+------+-----+-----+-----+-----+-----+------+-----+-----+-----+-----+-----+-----+\n",
            "|    0|        Romania|Precipitation|1901-1930|643.09|36.68|31.14|34.81|51.33|73.27| 92.86|76.01|64.93|50.44|49.99|43.14|38.49|\n",
            "|    1|       Botosani|Precipitation|1901-1930|527.69| 26.7|23.78|26.15| 45.6|60.45| 77.93|71.42|55.98|44.89| 34.6|32.24|27.93|\n",
            "|    2|          Neamt|Precipitation|1901-1930|639.03|30.98|26.67| 31.6|53.65|77.13| 94.88|86.84|73.57|51.56|46.33|35.58|30.25|\n",
            "|    3|Bistrita-nasaud|Precipitation|1901-1930|787.35|47.64|37.29|41.27|63.77|86.45|109.98|94.99|87.35|60.21|60.76| 50.7|46.94|\n",
            "|    4|          Mures|Precipitation|1901-1930|683.61|37.94|29.43|33.47|54.44|77.86|100.17|88.94|76.63|53.91|54.49|40.22|36.12|\n",
            "|    5|          Bihor|Precipitation|1901-1930|668.17| 40.1| 34.6|37.47| 54.9|68.38| 93.86|72.33|69.28|53.31|52.18|46.27| 45.5|\n",
            "|    6|      Mehedinti|Precipitation|1901-1930|659.36|38.03|34.76| 38.8|54.41|77.25| 95.64| 67.0|58.65|52.59| 53.9|45.94|42.38|\n",
            "|    7|      Maramures|Precipitation|1901-1930|870.13|53.48|44.22|48.22| 70.4|91.77|117.75|98.24|97.32|67.59|66.91| 58.6|55.64|\n",
            "|    8|           Iasi|Precipitation|1901-1930|535.81| 26.4|23.56|26.76|47.37|61.81| 82.28|70.76|57.45|44.11|34.69|34.02| 26.6|\n",
            "|    9|          Bacau|Precipitation|1901-1930|589.26| 28.0|24.14|29.36|48.85|72.46|  88.5|79.57| 65.6|47.45|42.38|35.05|27.91|\n",
            "|   10|          Arges|Precipitation|1901-1930|718.76|39.31|32.79|37.67|55.33|85.52|106.37| 92.7|72.65|57.21|55.51|44.55|39.16|\n",
            "|   11|           Arad|Precipitation|1901-1930|633.53|36.31| 31.9|34.97|53.75|67.77| 89.13|67.88|62.72|51.28|50.68|43.54|43.59|\n",
            "|   12|       Ialomita|Precipitation|1901-1930|491.41|30.37|24.29| 29.1|35.11|57.08| 70.34|53.14|43.97|35.73|38.89|41.19| 32.2|\n",
            "|   13|           Alba|Precipitation|1901-1930|762.71|39.65|35.49| 37.7|60.97|88.64|115.02|95.09| 83.9|60.79|60.66| 43.6| 41.2|\n",
            "|   14|      Hunedoara|Precipitation|1901-1930|801.01|42.16|39.45|40.01|63.79|93.63| 119.8| 95.7|86.04|65.62|62.55|47.04|45.22|\n",
            "|   15|       Harghita|Precipitation|1901-1930| 724.4|39.08|31.93|37.02|56.46|84.67| 106.8|96.16|81.51|57.92|55.65|40.21| 37.0|\n",
            "|   16|           Gorj|Precipitation|1901-1930|767.82|41.52| 38.5|40.88|62.36|91.27|114.62|89.27|75.95|61.17|61.81|46.69|43.79|\n",
            "|   17|        Giurgiu|Precipitation|1901-1930|569.89| 38.2|29.28|34.95|42.91|67.32| 78.14|59.82| 50.7|40.68| 41.7|47.73|38.47|\n",
            "|   18|         Galati|Precipitation|1901-1930|494.15|28.55|24.32|27.22|39.33|54.92| 75.48|56.92|45.66|39.11|35.99|36.97|29.68|\n",
            "|   19|        Vrancea|Precipitation|1901-1930| 601.4|32.84|26.72|31.54|47.42|72.31| 89.82|76.79|60.92|46.01|43.47|40.66|32.91|\n",
            "+-----+---------------+-------------+---------+------+-----+-----+-----+-----+-----+------+-----+-----+-----+-----+-----+-----+\n",
            "only showing top 20 rows\n",
            "\n"
          ]
        }
      ]
    },
    {
      "cell_type": "code",
      "source": [
        "df = df.drop('index')"
      ],
      "metadata": {
        "id": "GikGB1qhZErT"
      },
      "execution_count": null,
      "outputs": []
    },
    {
      "cell_type": "code",
      "source": [
        "df.show()"
      ],
      "metadata": {
        "colab": {
          "base_uri": "https://localhost:8080/"
        },
        "id": "Zz3vxus8ZWPF",
        "outputId": "dfe7a067-369b-47ef-e060-d78a0974a611"
      },
      "execution_count": null,
      "outputs": [
        {
          "output_type": "stream",
          "name": "stdout",
          "text": [
            "+---------------+-------------+---------+------+-----+-----+-----+-----+-----+------+-----+-----+-----+-----+-----+-----+\n",
            "| County/Country|     Variable|   Period|Annual|  Jan|  Feb|  Mar|  Apr|  May|   Jun|  Jul|  Aug|  Sep|  Oct|  Nov|  Dec|\n",
            "+---------------+-------------+---------+------+-----+-----+-----+-----+-----+------+-----+-----+-----+-----+-----+-----+\n",
            "|        Romania|Precipitation|1901-1930|643.09|36.68|31.14|34.81|51.33|73.27| 92.86|76.01|64.93|50.44|49.99|43.14|38.49|\n",
            "|       Botosani|Precipitation|1901-1930|527.69| 26.7|23.78|26.15| 45.6|60.45| 77.93|71.42|55.98|44.89| 34.6|32.24|27.93|\n",
            "|          Neamt|Precipitation|1901-1930|639.03|30.98|26.67| 31.6|53.65|77.13| 94.88|86.84|73.57|51.56|46.33|35.58|30.25|\n",
            "|Bistrita-nasaud|Precipitation|1901-1930|787.35|47.64|37.29|41.27|63.77|86.45|109.98|94.99|87.35|60.21|60.76| 50.7|46.94|\n",
            "|          Mures|Precipitation|1901-1930|683.61|37.94|29.43|33.47|54.44|77.86|100.17|88.94|76.63|53.91|54.49|40.22|36.12|\n",
            "|          Bihor|Precipitation|1901-1930|668.17| 40.1| 34.6|37.47| 54.9|68.38| 93.86|72.33|69.28|53.31|52.18|46.27| 45.5|\n",
            "|      Mehedinti|Precipitation|1901-1930|659.36|38.03|34.76| 38.8|54.41|77.25| 95.64| 67.0|58.65|52.59| 53.9|45.94|42.38|\n",
            "|      Maramures|Precipitation|1901-1930|870.13|53.48|44.22|48.22| 70.4|91.77|117.75|98.24|97.32|67.59|66.91| 58.6|55.64|\n",
            "|           Iasi|Precipitation|1901-1930|535.81| 26.4|23.56|26.76|47.37|61.81| 82.28|70.76|57.45|44.11|34.69|34.02| 26.6|\n",
            "|          Bacau|Precipitation|1901-1930|589.26| 28.0|24.14|29.36|48.85|72.46|  88.5|79.57| 65.6|47.45|42.38|35.05|27.91|\n",
            "|          Arges|Precipitation|1901-1930|718.76|39.31|32.79|37.67|55.33|85.52|106.37| 92.7|72.65|57.21|55.51|44.55|39.16|\n",
            "|           Arad|Precipitation|1901-1930|633.53|36.31| 31.9|34.97|53.75|67.77| 89.13|67.88|62.72|51.28|50.68|43.54|43.59|\n",
            "|       Ialomita|Precipitation|1901-1930|491.41|30.37|24.29| 29.1|35.11|57.08| 70.34|53.14|43.97|35.73|38.89|41.19| 32.2|\n",
            "|           Alba|Precipitation|1901-1930|762.71|39.65|35.49| 37.7|60.97|88.64|115.02|95.09| 83.9|60.79|60.66| 43.6| 41.2|\n",
            "|      Hunedoara|Precipitation|1901-1930|801.01|42.16|39.45|40.01|63.79|93.63| 119.8| 95.7|86.04|65.62|62.55|47.04|45.22|\n",
            "|       Harghita|Precipitation|1901-1930| 724.4|39.08|31.93|37.02|56.46|84.67| 106.8|96.16|81.51|57.92|55.65|40.21| 37.0|\n",
            "|           Gorj|Precipitation|1901-1930|767.82|41.52| 38.5|40.88|62.36|91.27|114.62|89.27|75.95|61.17|61.81|46.69|43.79|\n",
            "|        Giurgiu|Precipitation|1901-1930|569.89| 38.2|29.28|34.95|42.91|67.32| 78.14|59.82| 50.7|40.68| 41.7|47.73|38.47|\n",
            "|         Galati|Precipitation|1901-1930|494.15|28.55|24.32|27.22|39.33|54.92| 75.48|56.92|45.66|39.11|35.99|36.97|29.68|\n",
            "|        Vrancea|Precipitation|1901-1930| 601.4|32.84|26.72|31.54|47.42|72.31| 89.82|76.79|60.92|46.01|43.47|40.66|32.91|\n",
            "+---------------+-------------+---------+------+-----+-----+-----+-----+-----+------+-----+-----+-----+-----+-----+-----+\n",
            "only showing top 20 rows\n",
            "\n"
          ]
        }
      ]
    },
    {
      "cell_type": "code",
      "source": [
        "from pyspark.sql.functions import monotonically_increasing_id\n",
        "\n",
        "#  Add the new column with sequential numbers\n",
        "df = df.withColumn(\"RowNumber\", monotonically_increasing_id() + 1)\n",
        "\n",
        "#  Reorder the columns to make \"RowNumber\" the first column\n",
        "# Get a list of columns with \"RowNumber\" at the start\n",
        "new_column_order = [\"RowNumber\"] + [col for col in df.columns if col != \"RowNumber\"]\n",
        "\n",
        "#  Select columns in the new order to update the DataFrame\n",
        "df = df.select(new_column_order)\n",
        "\n",
        "# Display the updated DataFrame to verify \"RowNumber\" is the first column\n",
        "df.show(truncate=False)\n"
      ],
      "metadata": {
        "colab": {
          "base_uri": "https://localhost:8080/"
        },
        "id": "KgfXRR3Kayhn",
        "outputId": "12d88e5a-9f63-4170-b0a0-a640d45b334c"
      },
      "execution_count": null,
      "outputs": [
        {
          "output_type": "stream",
          "name": "stdout",
          "text": [
            "+---------+---------------+-------------+---------+------+-----+-----+-----+-----+-----+------+-----+-----+-----+-----+-----+-----+\n",
            "|RowNumber|County/Country |Variable     |Period   |Annual|Jan  |Feb  |Mar  |Apr  |May  |Jun   |Jul  |Aug  |Sep  |Oct  |Nov  |Dec  |\n",
            "+---------+---------------+-------------+---------+------+-----+-----+-----+-----+-----+------+-----+-----+-----+-----+-----+-----+\n",
            "|1        |Romania        |Precipitation|1901-1930|643.09|36.68|31.14|34.81|51.33|73.27|92.86 |76.01|64.93|50.44|49.99|43.14|38.49|\n",
            "|2        |Botosani       |Precipitation|1901-1930|527.69|26.7 |23.78|26.15|45.6 |60.45|77.93 |71.42|55.98|44.89|34.6 |32.24|27.93|\n",
            "|3        |Neamt          |Precipitation|1901-1930|639.03|30.98|26.67|31.6 |53.65|77.13|94.88 |86.84|73.57|51.56|46.33|35.58|30.25|\n",
            "|4        |Bistrita-nasaud|Precipitation|1901-1930|787.35|47.64|37.29|41.27|63.77|86.45|109.98|94.99|87.35|60.21|60.76|50.7 |46.94|\n",
            "|5        |Mures          |Precipitation|1901-1930|683.61|37.94|29.43|33.47|54.44|77.86|100.17|88.94|76.63|53.91|54.49|40.22|36.12|\n",
            "|6        |Bihor          |Precipitation|1901-1930|668.17|40.1 |34.6 |37.47|54.9 |68.38|93.86 |72.33|69.28|53.31|52.18|46.27|45.5 |\n",
            "|7        |Mehedinti      |Precipitation|1901-1930|659.36|38.03|34.76|38.8 |54.41|77.25|95.64 |67.0 |58.65|52.59|53.9 |45.94|42.38|\n",
            "|8        |Maramures      |Precipitation|1901-1930|870.13|53.48|44.22|48.22|70.4 |91.77|117.75|98.24|97.32|67.59|66.91|58.6 |55.64|\n",
            "|9        |Iasi           |Precipitation|1901-1930|535.81|26.4 |23.56|26.76|47.37|61.81|82.28 |70.76|57.45|44.11|34.69|34.02|26.6 |\n",
            "|10       |Bacau          |Precipitation|1901-1930|589.26|28.0 |24.14|29.36|48.85|72.46|88.5  |79.57|65.6 |47.45|42.38|35.05|27.91|\n",
            "|11       |Arges          |Precipitation|1901-1930|718.76|39.31|32.79|37.67|55.33|85.52|106.37|92.7 |72.65|57.21|55.51|44.55|39.16|\n",
            "|12       |Arad           |Precipitation|1901-1930|633.53|36.31|31.9 |34.97|53.75|67.77|89.13 |67.88|62.72|51.28|50.68|43.54|43.59|\n",
            "|13       |Ialomita       |Precipitation|1901-1930|491.41|30.37|24.29|29.1 |35.11|57.08|70.34 |53.14|43.97|35.73|38.89|41.19|32.2 |\n",
            "|14       |Alba           |Precipitation|1901-1930|762.71|39.65|35.49|37.7 |60.97|88.64|115.02|95.09|83.9 |60.79|60.66|43.6 |41.2 |\n",
            "|15       |Hunedoara      |Precipitation|1901-1930|801.01|42.16|39.45|40.01|63.79|93.63|119.8 |95.7 |86.04|65.62|62.55|47.04|45.22|\n",
            "|16       |Harghita       |Precipitation|1901-1930|724.4 |39.08|31.93|37.02|56.46|84.67|106.8 |96.16|81.51|57.92|55.65|40.21|37.0 |\n",
            "|17       |Gorj           |Precipitation|1901-1930|767.82|41.52|38.5 |40.88|62.36|91.27|114.62|89.27|75.95|61.17|61.81|46.69|43.79|\n",
            "|18       |Giurgiu        |Precipitation|1901-1930|569.89|38.2 |29.28|34.95|42.91|67.32|78.14 |59.82|50.7 |40.68|41.7 |47.73|38.47|\n",
            "|19       |Galati         |Precipitation|1901-1930|494.15|28.55|24.32|27.22|39.33|54.92|75.48 |56.92|45.66|39.11|35.99|36.97|29.68|\n",
            "|20       |Vrancea        |Precipitation|1901-1930|601.4 |32.84|26.72|31.54|47.42|72.31|89.82 |76.79|60.92|46.01|43.47|40.66|32.91|\n",
            "+---------+---------------+-------------+---------+------+-----+-----+-----+-----+-----+------+-----+-----+-----+-----+-----+-----+\n",
            "only showing top 20 rows\n",
            "\n"
          ]
        }
      ]
    },
    {
      "cell_type": "code",
      "source": [
        "#Renaming a column in PySpark\n",
        "df = df.withColumnRenamed('RowNumber', 'Number')\n",
        "df.select('Number').show(truncate=False)"
      ],
      "metadata": {
        "colab": {
          "base_uri": "https://localhost:8080/"
        },
        "id": "lwZVEXe_bF67",
        "outputId": "c30a6a8e-6e88-4736-9427-8fd4e6f8303a"
      },
      "execution_count": null,
      "outputs": [
        {
          "output_type": "stream",
          "name": "stdout",
          "text": [
            "+------+\n",
            "|Number|\n",
            "+------+\n",
            "|1     |\n",
            "|2     |\n",
            "|3     |\n",
            "|4     |\n",
            "|5     |\n",
            "|6     |\n",
            "|7     |\n",
            "|8     |\n",
            "|9     |\n",
            "|10    |\n",
            "|11    |\n",
            "|12    |\n",
            "|13    |\n",
            "|14    |\n",
            "|15    |\n",
            "|16    |\n",
            "|17    |\n",
            "|18    |\n",
            "|19    |\n",
            "|20    |\n",
            "+------+\n",
            "only showing top 20 rows\n",
            "\n"
          ]
        }
      ]
    },
    {
      "cell_type": "code",
      "source": [
        "df.show(truncate=False)"
      ],
      "metadata": {
        "colab": {
          "base_uri": "https://localhost:8080/"
        },
        "id": "x3iy0KBJbamj",
        "outputId": "9dfac5f7-8cbb-4cec-f492-87b274bdc16b"
      },
      "execution_count": null,
      "outputs": [
        {
          "output_type": "stream",
          "name": "stdout",
          "text": [
            "+------+---------------+-------------+---------+------+-----+-----+-----+-----+-----+------+-----+-----+-----+-----+-----+-----+\n",
            "|Number|County/Country |Variable     |Period   |Annual|Jan  |Feb  |Mar  |Apr  |May  |Jun   |Jul  |Aug  |Sep  |Oct  |Nov  |Dec  |\n",
            "+------+---------------+-------------+---------+------+-----+-----+-----+-----+-----+------+-----+-----+-----+-----+-----+-----+\n",
            "|1     |Romania        |Precipitation|1901-1930|643.09|36.68|31.14|34.81|51.33|73.27|92.86 |76.01|64.93|50.44|49.99|43.14|38.49|\n",
            "|2     |Botosani       |Precipitation|1901-1930|527.69|26.7 |23.78|26.15|45.6 |60.45|77.93 |71.42|55.98|44.89|34.6 |32.24|27.93|\n",
            "|3     |Neamt          |Precipitation|1901-1930|639.03|30.98|26.67|31.6 |53.65|77.13|94.88 |86.84|73.57|51.56|46.33|35.58|30.25|\n",
            "|4     |Bistrita-nasaud|Precipitation|1901-1930|787.35|47.64|37.29|41.27|63.77|86.45|109.98|94.99|87.35|60.21|60.76|50.7 |46.94|\n",
            "|5     |Mures          |Precipitation|1901-1930|683.61|37.94|29.43|33.47|54.44|77.86|100.17|88.94|76.63|53.91|54.49|40.22|36.12|\n",
            "|6     |Bihor          |Precipitation|1901-1930|668.17|40.1 |34.6 |37.47|54.9 |68.38|93.86 |72.33|69.28|53.31|52.18|46.27|45.5 |\n",
            "|7     |Mehedinti      |Precipitation|1901-1930|659.36|38.03|34.76|38.8 |54.41|77.25|95.64 |67.0 |58.65|52.59|53.9 |45.94|42.38|\n",
            "|8     |Maramures      |Precipitation|1901-1930|870.13|53.48|44.22|48.22|70.4 |91.77|117.75|98.24|97.32|67.59|66.91|58.6 |55.64|\n",
            "|9     |Iasi           |Precipitation|1901-1930|535.81|26.4 |23.56|26.76|47.37|61.81|82.28 |70.76|57.45|44.11|34.69|34.02|26.6 |\n",
            "|10    |Bacau          |Precipitation|1901-1930|589.26|28.0 |24.14|29.36|48.85|72.46|88.5  |79.57|65.6 |47.45|42.38|35.05|27.91|\n",
            "|11    |Arges          |Precipitation|1901-1930|718.76|39.31|32.79|37.67|55.33|85.52|106.37|92.7 |72.65|57.21|55.51|44.55|39.16|\n",
            "|12    |Arad           |Precipitation|1901-1930|633.53|36.31|31.9 |34.97|53.75|67.77|89.13 |67.88|62.72|51.28|50.68|43.54|43.59|\n",
            "|13    |Ialomita       |Precipitation|1901-1930|491.41|30.37|24.29|29.1 |35.11|57.08|70.34 |53.14|43.97|35.73|38.89|41.19|32.2 |\n",
            "|14    |Alba           |Precipitation|1901-1930|762.71|39.65|35.49|37.7 |60.97|88.64|115.02|95.09|83.9 |60.79|60.66|43.6 |41.2 |\n",
            "|15    |Hunedoara      |Precipitation|1901-1930|801.01|42.16|39.45|40.01|63.79|93.63|119.8 |95.7 |86.04|65.62|62.55|47.04|45.22|\n",
            "|16    |Harghita       |Precipitation|1901-1930|724.4 |39.08|31.93|37.02|56.46|84.67|106.8 |96.16|81.51|57.92|55.65|40.21|37.0 |\n",
            "|17    |Gorj           |Precipitation|1901-1930|767.82|41.52|38.5 |40.88|62.36|91.27|114.62|89.27|75.95|61.17|61.81|46.69|43.79|\n",
            "|18    |Giurgiu        |Precipitation|1901-1930|569.89|38.2 |29.28|34.95|42.91|67.32|78.14 |59.82|50.7 |40.68|41.7 |47.73|38.47|\n",
            "|19    |Galati         |Precipitation|1901-1930|494.15|28.55|24.32|27.22|39.33|54.92|75.48 |56.92|45.66|39.11|35.99|36.97|29.68|\n",
            "|20    |Vrancea        |Precipitation|1901-1930|601.4 |32.84|26.72|31.54|47.42|72.31|89.82 |76.79|60.92|46.01|43.47|40.66|32.91|\n",
            "+------+---------------+-------------+---------+------+-----+-----+-----+-----+-----+------+-----+-----+-----+-----+-----+-----+\n",
            "only showing top 20 rows\n",
            "\n"
          ]
        }
      ]
    },
    {
      "cell_type": "code",
      "source": [
        "from pyspark.sql.functions import col, concat, lit\n",
        "\n",
        "# Creating the 'Number_country' column by concatenating 'index' and 'County/Country' with a space\n",
        "# Use 'Number' instead of 'RowNumber' as it was renamed previously\n",
        "df = df.withColumn('Number_country', concat(col(\"Number\"), lit(\" \"), col(\"County/Country\")))\n",
        "# Display the first 5 rows without truncation\n",
        "df.show(15, truncate=False)"
      ],
      "metadata": {
        "colab": {
          "base_uri": "https://localhost:8080/"
        },
        "id": "DRhbM6cFcUSR",
        "outputId": "3a0c0802-b392-482e-f29a-4b2c7c2cf9c7"
      },
      "execution_count": null,
      "outputs": [
        {
          "output_type": "stream",
          "name": "stdout",
          "text": [
            "+------+---------------+-------------+---------+------+-----+-----+-----+-----+-----+------+-----+-----+-----+-----+-----+-----+-----------------+\n",
            "|Number|County/Country |Variable     |Period   |Annual|Jan  |Feb  |Mar  |Apr  |May  |Jun   |Jul  |Aug  |Sep  |Oct  |Nov  |Dec  |Number_country   |\n",
            "+------+---------------+-------------+---------+------+-----+-----+-----+-----+-----+------+-----+-----+-----+-----+-----+-----+-----------------+\n",
            "|1     |Romania        |Precipitation|1901-1930|643.09|36.68|31.14|34.81|51.33|73.27|92.86 |76.01|64.93|50.44|49.99|43.14|38.49|1 Romania        |\n",
            "|2     |Botosani       |Precipitation|1901-1930|527.69|26.7 |23.78|26.15|45.6 |60.45|77.93 |71.42|55.98|44.89|34.6 |32.24|27.93|2 Botosani       |\n",
            "|3     |Neamt          |Precipitation|1901-1930|639.03|30.98|26.67|31.6 |53.65|77.13|94.88 |86.84|73.57|51.56|46.33|35.58|30.25|3 Neamt          |\n",
            "|4     |Bistrita-nasaud|Precipitation|1901-1930|787.35|47.64|37.29|41.27|63.77|86.45|109.98|94.99|87.35|60.21|60.76|50.7 |46.94|4 Bistrita-nasaud|\n",
            "|5     |Mures          |Precipitation|1901-1930|683.61|37.94|29.43|33.47|54.44|77.86|100.17|88.94|76.63|53.91|54.49|40.22|36.12|5 Mures          |\n",
            "|6     |Bihor          |Precipitation|1901-1930|668.17|40.1 |34.6 |37.47|54.9 |68.38|93.86 |72.33|69.28|53.31|52.18|46.27|45.5 |6 Bihor          |\n",
            "|7     |Mehedinti      |Precipitation|1901-1930|659.36|38.03|34.76|38.8 |54.41|77.25|95.64 |67.0 |58.65|52.59|53.9 |45.94|42.38|7 Mehedinti      |\n",
            "|8     |Maramures      |Precipitation|1901-1930|870.13|53.48|44.22|48.22|70.4 |91.77|117.75|98.24|97.32|67.59|66.91|58.6 |55.64|8 Maramures      |\n",
            "|9     |Iasi           |Precipitation|1901-1930|535.81|26.4 |23.56|26.76|47.37|61.81|82.28 |70.76|57.45|44.11|34.69|34.02|26.6 |9 Iasi           |\n",
            "|10    |Bacau          |Precipitation|1901-1930|589.26|28.0 |24.14|29.36|48.85|72.46|88.5  |79.57|65.6 |47.45|42.38|35.05|27.91|10 Bacau         |\n",
            "|11    |Arges          |Precipitation|1901-1930|718.76|39.31|32.79|37.67|55.33|85.52|106.37|92.7 |72.65|57.21|55.51|44.55|39.16|11 Arges         |\n",
            "|12    |Arad           |Precipitation|1901-1930|633.53|36.31|31.9 |34.97|53.75|67.77|89.13 |67.88|62.72|51.28|50.68|43.54|43.59|12 Arad          |\n",
            "|13    |Ialomita       |Precipitation|1901-1930|491.41|30.37|24.29|29.1 |35.11|57.08|70.34 |53.14|43.97|35.73|38.89|41.19|32.2 |13 Ialomita      |\n",
            "|14    |Alba           |Precipitation|1901-1930|762.71|39.65|35.49|37.7 |60.97|88.64|115.02|95.09|83.9 |60.79|60.66|43.6 |41.2 |14 Alba          |\n",
            "|15    |Hunedoara      |Precipitation|1901-1930|801.01|42.16|39.45|40.01|63.79|93.63|119.8 |95.7 |86.04|65.62|62.55|47.04|45.22|15 Hunedoara     |\n",
            "+------+---------------+-------------+---------+------+-----+-----+-----+-----+-----+------+-----+-----+-----+-----+-----+-----+-----------------+\n",
            "only showing top 15 rows\n",
            "\n"
          ]
        }
      ]
    },
    {
      "cell_type": "code",
      "source": [
        "# Group By a column in PySpark\n",
        "df_grouped = df.groupBy('Variable').count()\n",
        "df_grouped.show()"
      ],
      "metadata": {
        "colab": {
          "base_uri": "https://localhost:8080/"
        },
        "id": "25jryD8vfUD3",
        "outputId": "9d799685-306c-4281-921c-3ece3d4f6268"
      },
      "execution_count": null,
      "outputs": [
        {
          "output_type": "stream",
          "name": "stdout",
          "text": [
            "+----------------+-----+\n",
            "|        Variable|count|\n",
            "+----------------+-----+\n",
            "| Max-Temperature|  168|\n",
            "| Min-Temperature|  167|\n",
            "|   Precipitation|  168|\n",
            "|Mean-Temperature|  168|\n",
            "+----------------+-----+\n",
            "\n"
          ]
        }
      ]
    },
    {
      "cell_type": "code",
      "source": [
        "df.show(truncate=False)"
      ],
      "metadata": {
        "colab": {
          "base_uri": "https://localhost:8080/"
        },
        "id": "SSrCjVe6hmhZ",
        "outputId": "8b5fdcac-43a8-4bd8-9b9c-c8fcfad70b85"
      },
      "execution_count": null,
      "outputs": [
        {
          "output_type": "stream",
          "name": "stdout",
          "text": [
            "+------+---------------+-------------+---------+------+-----+-----+-----+-----+-----+------+-----+-----+-----+-----+-----+-----+-----------------+\n",
            "|Number|County/Country |Variable     |Period   |Annual|Jan  |Feb  |Mar  |Apr  |May  |Jun   |Jul  |Aug  |Sep  |Oct  |Nov  |Dec  |Number_country   |\n",
            "+------+---------------+-------------+---------+------+-----+-----+-----+-----+-----+------+-----+-----+-----+-----+-----+-----+-----------------+\n",
            "|1     |Romania        |Precipitation|1901-1930|643.09|36.68|31.14|34.81|51.33|73.27|92.86 |76.01|64.93|50.44|49.99|43.14|38.49|1 Romania        |\n",
            "|2     |Botosani       |Precipitation|1901-1930|527.69|26.7 |23.78|26.15|45.6 |60.45|77.93 |71.42|55.98|44.89|34.6 |32.24|27.93|2 Botosani       |\n",
            "|3     |Neamt          |Precipitation|1901-1930|639.03|30.98|26.67|31.6 |53.65|77.13|94.88 |86.84|73.57|51.56|46.33|35.58|30.25|3 Neamt          |\n",
            "|4     |Bistrita-nasaud|Precipitation|1901-1930|787.35|47.64|37.29|41.27|63.77|86.45|109.98|94.99|87.35|60.21|60.76|50.7 |46.94|4 Bistrita-nasaud|\n",
            "|5     |Mures          |Precipitation|1901-1930|683.61|37.94|29.43|33.47|54.44|77.86|100.17|88.94|76.63|53.91|54.49|40.22|36.12|5 Mures          |\n",
            "|6     |Bihor          |Precipitation|1901-1930|668.17|40.1 |34.6 |37.47|54.9 |68.38|93.86 |72.33|69.28|53.31|52.18|46.27|45.5 |6 Bihor          |\n",
            "|7     |Mehedinti      |Precipitation|1901-1930|659.36|38.03|34.76|38.8 |54.41|77.25|95.64 |67.0 |58.65|52.59|53.9 |45.94|42.38|7 Mehedinti      |\n",
            "|8     |Maramures      |Precipitation|1901-1930|870.13|53.48|44.22|48.22|70.4 |91.77|117.75|98.24|97.32|67.59|66.91|58.6 |55.64|8 Maramures      |\n",
            "|9     |Iasi           |Precipitation|1901-1930|535.81|26.4 |23.56|26.76|47.37|61.81|82.28 |70.76|57.45|44.11|34.69|34.02|26.6 |9 Iasi           |\n",
            "|10    |Bacau          |Precipitation|1901-1930|589.26|28.0 |24.14|29.36|48.85|72.46|88.5  |79.57|65.6 |47.45|42.38|35.05|27.91|10 Bacau         |\n",
            "|11    |Arges          |Precipitation|1901-1930|718.76|39.31|32.79|37.67|55.33|85.52|106.37|92.7 |72.65|57.21|55.51|44.55|39.16|11 Arges         |\n",
            "|12    |Arad           |Precipitation|1901-1930|633.53|36.31|31.9 |34.97|53.75|67.77|89.13 |67.88|62.72|51.28|50.68|43.54|43.59|12 Arad          |\n",
            "|13    |Ialomita       |Precipitation|1901-1930|491.41|30.37|24.29|29.1 |35.11|57.08|70.34 |53.14|43.97|35.73|38.89|41.19|32.2 |13 Ialomita      |\n",
            "|14    |Alba           |Precipitation|1901-1930|762.71|39.65|35.49|37.7 |60.97|88.64|115.02|95.09|83.9 |60.79|60.66|43.6 |41.2 |14 Alba          |\n",
            "|15    |Hunedoara      |Precipitation|1901-1930|801.01|42.16|39.45|40.01|63.79|93.63|119.8 |95.7 |86.04|65.62|62.55|47.04|45.22|15 Hunedoara     |\n",
            "|16    |Harghita       |Precipitation|1901-1930|724.4 |39.08|31.93|37.02|56.46|84.67|106.8 |96.16|81.51|57.92|55.65|40.21|37.0 |16 Harghita      |\n",
            "|17    |Gorj           |Precipitation|1901-1930|767.82|41.52|38.5 |40.88|62.36|91.27|114.62|89.27|75.95|61.17|61.81|46.69|43.79|17 Gorj          |\n",
            "|18    |Giurgiu        |Precipitation|1901-1930|569.89|38.2 |29.28|34.95|42.91|67.32|78.14 |59.82|50.7 |40.68|41.7 |47.73|38.47|18 Giurgiu       |\n",
            "|19    |Galati         |Precipitation|1901-1930|494.15|28.55|24.32|27.22|39.33|54.92|75.48 |56.92|45.66|39.11|35.99|36.97|29.68|19 Galati        |\n",
            "|20    |Vrancea        |Precipitation|1901-1930|601.4 |32.84|26.72|31.54|47.42|72.31|89.82 |76.79|60.92|46.01|43.47|40.66|32.91|20 Vrancea       |\n",
            "+------+---------------+-------------+---------+------+-----+-----+-----+-----+-----+------+-----+-----+-----+-----+-----+-----+-----------------+\n",
            "only showing top 20 rows\n",
            "\n"
          ]
        }
      ]
    },
    {
      "cell_type": "code",
      "source": [
        "# Sort the DataFrame by the \"County/Country\" column in ascending order\n",
        "sorted_county_df = df.orderBy(\"County/Country\", ascending=True)\n",
        "\n",
        "# Display the sorted DataFrame\n",
        "sorted_county_df.show()\n"
      ],
      "metadata": {
        "colab": {
          "base_uri": "https://localhost:8080/"
        },
        "id": "Hhfw0ZZZmamI",
        "outputId": "dacf4e36-e474-4841-ec11-b3828957d744"
      },
      "execution_count": null,
      "outputs": [
        {
          "output_type": "stream",
          "name": "stdout",
          "text": [
            "+------+--------------+----------------+---------+------+-----+-----+-----+-----+-----+------+-----+-----+-----+-----+-----+-----+--------------+\n",
            "|Number|County/Country|        Variable|   Period|Annual|  Jan|  Feb|  Mar|  Apr|  May|   Jun|  Jul|  Aug|  Sep|  Oct|  Nov|  Dec|Number_country|\n",
            "+------+--------------+----------------+---------+------+-----+-----+-----+-----+-----+------+-----+-----+-----+-----+-----+-----+--------------+\n",
            "|    14|          Alba|   Precipitation|1901-1930|762.71|39.65|35.49| 37.7|60.97|88.64|115.02|95.09| 83.9|60.79|60.66| 43.6| 41.2|       14 Alba|\n",
            "|    56|          Alba|   Precipitation|1931-1960|753.86|41.27|40.86|36.38|57.83|92.55|111.07|93.32|80.04|52.63|59.23|46.47| 42.2|       56 Alba|\n",
            "|    98|          Alba|   Precipitation|1961-1990|736.05|39.69|36.23|38.13|58.78|90.76|111.56|97.38|79.21|50.53|45.09|43.55|45.13|       98 Alba|\n",
            "|   140|          Alba|   Precipitation|1991-2020|767.26|36.87|37.74|41.79|57.89|91.51|110.12|100.9|76.68|67.14|60.84|41.03|44.76|      140 Alba|\n",
            "|   182|          Alba|Mean-Temperature|1901-1930|  7.14| -4.6|-3.04| 2.62| 7.32|12.61| 15.42| 17.3|16.83|13.07| 7.96| 2.35|-2.15|      182 Alba|\n",
            "|   224|          Alba|Mean-Temperature|1931-1960|   7.3|-5.18| -3.0| 1.92| 7.64|12.73| 15.88|17.86|17.39|13.67| 8.02|  2.8|-2.12|      224 Alba|\n",
            "|   266|          Alba|Mean-Temperature|1961-1990|  7.15|-4.91|-2.41| 2.36| 7.69|12.54| 15.31|16.84|16.61|13.27| 8.07| 2.76|-2.33|      266 Alba|\n",
            "|   308|          Alba|Mean-Temperature|1991-2020|  8.19|-3.15|-1.36| 3.13| 8.59|13.29| 16.79|18.37|18.49|13.81| 8.68| 3.53|-1.84|      308 Alba|\n",
            "|   350|          Alba| Max-Temperature|1901-1930|  12.2|-0.57| 1.19| 7.56|12.73|18.25|  21.0|23.11|22.79|18.93|13.61| 6.51| 1.21|      350 Alba|\n",
            "|   392|          Alba| Max-Temperature|1931-1960| 12.39|-1.15| 1.28| 6.91|13.09|18.37| 21.48|23.78|23.42|19.81|13.67| 6.81| 1.21|      392 Alba|\n",
            "|   434|          Alba| Max-Temperature|1961-1990| 12.15|-0.84| 1.81| 7.25|13.03|18.04| 20.76|22.51|22.45| 19.1|13.71| 6.94| 1.08|      434 Alba|\n",
            "|   476|          Alba| Max-Temperature|1991-2020| 13.29| 0.69| 3.07| 8.19| 14.1|19.02| 22.46| 24.3|24.65|19.62|14.03| 7.82| 1.56|      476 Alba|\n",
            "|   518|          Alba| Min-Temperature|1901-1930|  2.11|-8.65| -7.3|-2.31| 1.95| 7.02|   9.9|11.54|10.93| 7.25| 2.35|-1.79|-5.52|      518 Alba|\n",
            "|   560|          Alba| Min-Temperature|1931-1960|  2.24|-9.25|-7.29|-3.05| 2.23| 7.14| 10.32|11.98|11.42|  7.6| 2.42|-1.19|-5.47|      560 Alba|\n",
            "|   602|          Alba| Min-Temperature|1961-1990|  2.18|-9.03|-6.64|-2.52|  2.4| 7.09|  9.92|11.22|10.82| 7.49| 2.49| -1.4|-5.75|      602 Alba|\n",
            "|   644|          Alba| Min-Temperature|1991-2020|  3.12|-7.02| -5.8|-1.92| 3.12| 7.61| 11.16|12.48|12.39| 8.06| 3.36|-0.75|-5.26|      644 Alba|\n",
            "|    12|          Arad|   Precipitation|1901-1930|633.53|36.31| 31.9|34.97|53.75|67.77| 89.13|67.88|62.72|51.28|50.68|43.54|43.59|       12 Arad|\n",
            "|    54|          Arad|   Precipitation|1931-1960|636.81|38.57|39.05|34.06|47.77| 74.1| 87.67|67.99| 59.5|42.63| 50.7|50.86|43.91|       54 Arad|\n",
            "|    96|          Arad|   Precipitation|1961-1990|616.42|38.01|33.22| 35.0|48.74|69.81| 88.01|71.15| 61.5|42.29|36.83|45.42|46.45|       96 Arad|\n",
            "|   138|          Arad|   Precipitation|1991-2020|643.02|34.89| 35.1|36.66|47.72|71.15| 87.49|75.83|59.87|55.36|50.84| 42.3|45.79|      138 Arad|\n",
            "+------+--------------+----------------+---------+------+-----+-----+-----+-----+-----+------+-----+-----+-----+-----+-----+-----+--------------+\n",
            "only showing top 20 rows\n",
            "\n"
          ]
        }
      ]
    },
    {
      "cell_type": "code",
      "source": [
        "# Sort the DataFrame by the \"County/Country\" column in descending order\n",
        "sorted_county_df = df.orderBy(\"County/Country\", ascending=False)\n",
        "\n",
        "# Display the sorted DataFrame\n",
        "sorted_county_df.show()\n"
      ],
      "metadata": {
        "colab": {
          "base_uri": "https://localhost:8080/"
        },
        "id": "YNIhna67pY8u",
        "outputId": "6449c3af-438f-47e7-b545-2ae900e3a3c4"
      },
      "execution_count": null,
      "outputs": [
        {
          "output_type": "stream",
          "name": "stdout",
          "text": [
            "+------+--------------+----------------+---------+------+-----+-----+-----+-----+-----+-----+-----+-----+-----+-----+-----+-----+--------------+\n",
            "|Number|County/Country|        Variable|   Period|Annual|  Jan|  Feb|  Mar|  Apr|  May|  Jun|  Jul|  Aug|  Sep|  Oct|  Nov|  Dec|Number_country|\n",
            "+------+--------------+----------------+---------+------+-----+-----+-----+-----+-----+-----+-----+-----+-----+-----+-----+-----+--------------+\n",
            "|   104|       Vrancea|   Precipitation|1961-1990|619.31|34.26|32.44|33.02|51.89|75.76|89.68|79.37|64.08| 49.4|34.06| 38.9|36.45|   104 Vrancea|\n",
            "|   188|       Vrancea|Mean-Temperature|1901-1930|  8.37|-4.19|-2.94| 2.93| 8.76|14.45|17.68|19.59|18.88|14.75| 9.16| 3.18|-1.75|   188 Vrancea|\n",
            "|    62|       Vrancea|   Precipitation|1931-1960|601.02|35.74|30.57|26.71|48.97|72.32|93.56|69.86|64.97|39.68|43.44|41.31| 33.9|    62 Vrancea|\n",
            "|    20|       Vrancea|   Precipitation|1901-1930| 601.4|32.84|26.72|31.54|47.42|72.31|89.82|76.79|60.92|46.01|43.47|40.66|32.91|    20 Vrancea|\n",
            "|   146|       Vrancea|   Precipitation|1991-2020|624.01| 35.3|27.87|37.28|49.66|74.32|86.03|77.57|58.21|54.82|46.98|38.35|37.62|   146 Vrancea|\n",
            "|   230|       Vrancea|Mean-Temperature|1931-1960|  8.44|-4.69| -2.9| 2.13| 8.85|14.39|17.98|20.11|19.38|15.19| 9.27| 3.42|-1.86|   230 Vrancea|\n",
            "|   272|       Vrancea|Mean-Temperature|1961-1990|  8.38|-4.39|-2.34| 2.59| 9.05|14.21|17.47|19.09|18.65|14.95| 9.31| 3.66|-1.66|   272 Vrancea|\n",
            "|   314|       Vrancea|Mean-Temperature|1991-2020|  9.39| -3.0|-1.05| 3.74| 9.76| 15.0|18.85|20.72|20.48|15.56| 9.86| 4.15|-1.45|   314 Vrancea|\n",
            "|   356|       Vrancea| Max-Temperature|1901-1930| 13.72|-0.57| 0.98| 7.89|14.71|20.73|24.07| 26.1|25.66|21.27|15.03|  7.3|  1.5|   356 Vrancea|\n",
            "|   398|       Vrancea| Max-Temperature|1931-1960| 13.79|-0.99| 1.08| 7.15| 14.8|20.63|24.31|26.68|26.09|21.82| 15.1| 7.32| 1.51|   398 Vrancea|\n",
            "|   440|       Vrancea| Max-Temperature|1961-1990| 13.58|-0.61| 1.53| 7.42|14.82|20.22|23.48|25.23|25.06|21.26|15.05| 7.72| 1.74|   440 Vrancea|\n",
            "|   482|       Vrancea| Max-Temperature|1991-2020| 14.64| 0.59| 3.09| 8.82|15.64|21.19|25.03|27.09|27.09|21.71|15.29| 8.12| 1.95|   482 Vrancea|\n",
            "|   524|       Vrancea| Min-Temperature|1901-1930|  3.05|-7.83| -6.9|-2.01| 2.85| 8.23|11.34|13.13|12.15| 8.27| 3.35|-0.93| -5.0|   524 Vrancea|\n",
            "|   566|       Vrancea| Min-Temperature|1931-1960|  3.11|-8.42|-6.89|-2.89| 2.95| 8.21| 11.7|13.59|12.72| 8.61|  3.5|-0.46|-5.24|   566 Vrancea|\n",
            "|   608|       Vrancea| Min-Temperature|1961-1990|  3.22| -8.2|-6.21|-2.23| 3.32| 8.24|11.51|13.02| 12.3| 8.67| 3.63|-0.38|-5.05|   608 Vrancea|\n",
            "|   650|       Vrancea| Min-Temperature|1991-2020|  4.17| -6.6| -5.2|-1.32| 3.93| 8.86|12.72| 14.4|13.91| 9.45| 4.49| 0.21|-4.86|   650 Vrancea|\n",
            "|    66|        Vaslui|   Precipitation|1931-1960|543.08|33.39| 30.0|24.46|45.76|60.09|83.94|60.27|59.76|38.41|37.12|40.07|29.81|     66 Vaslui|\n",
            "|    24|        Vaslui|   Precipitation|1901-1930|545.22|30.11|25.82|29.94|46.41|61.46|83.82|67.86|52.46|42.25|37.84|37.76|29.51|     24 Vaslui|\n",
            "|   108|        Vaslui|   Precipitation|1961-1990|568.48|32.37|32.93|31.35|49.83|64.48|85.08|73.06|54.55|48.41|27.82|35.51|33.08|    108 Vaslui|\n",
            "|   150|        Vaslui|   Precipitation|1991-2020|552.94|32.16|27.16|34.08|44.88|60.77|79.58|67.46|50.16|50.32|38.94|34.88|32.56|    150 Vaslui|\n",
            "+------+--------------+----------------+---------+------+-----+-----+-----+-----+-----+-----+-----+-----+-----+-----+-----+-----+--------------+\n",
            "only showing top 20 rows\n",
            "\n"
          ]
        }
      ]
    },
    {
      "cell_type": "code",
      "source": [
        "from pyspark.sql.functions import max as F_max, min as F_min\n",
        "\n",
        "#  Group by \"County/Country\" and calculate the max and min of \"Annual\" precipitation\n",
        "country_precipitation_stats = df.groupBy(\"County/Country\").agg(\n",
        "    F_max(\"Annual\").alias(\"Max_Annual_Precipitation\"),\n",
        "    F_min(\"Annual\").alias(\"Min_Annual_Precipitation\")\n",
        ")\n",
        "\n",
        "#  Display the result\n",
        "country_precipitation_stats.show(truncate=False)\n"
      ],
      "metadata": {
        "colab": {
          "base_uri": "https://localhost:8080/"
        },
        "id": "krmsQse7eQw6",
        "outputId": "57df2483-abbb-4f4d-878a-7a579f6cc0f8"
      },
      "execution_count": null,
      "outputs": [
        {
          "output_type": "stream",
          "name": "stdout",
          "text": [
            "+--------------+------------------------+------------------------+\n",
            "|County/Country|Max_Annual_Precipitation|Min_Annual_Precipitation|\n",
            "+--------------+------------------------+------------------------+\n",
            "|Brasov        |695.8                   |1.38                    |\n",
            "|Mehedinti     |686.54                  |5.68                    |\n",
            "|Gorj          |795.48                  |3.34                    |\n",
            "|Iasi          |559.93                  |4.18                    |\n",
            "|Neamt         |643.56                  |1.23                    |\n",
            "|Suceava       |725.28                  |0.58                    |\n",
            "|Timis         |627.69                  |6.16                    |\n",
            "|Valcea        |764.84                  |2.86                    |\n",
            "|Alba          |767.26                  |2.11                    |\n",
            "|Bucuresti     |587.03                  |5.47                    |\n",
            "|Calarasi      |532.95                  |5.87                    |\n",
            "|Botosani      |540.96                  |4.22                    |\n",
            "|Maramures     |870.13                  |0.91                    |\n",
            "|Arges         |742.79                  |2.91                    |\n",
            "|Olt           |599.43                  |5.76                    |\n",
            "|Ialomita      |510.13                  |5.8                     |\n",
            "|Dolj          |592.92                  |6.34                    |\n",
            "|Arad          |643.02                  |5.17                    |\n",
            "|Cluj          |707.51                  |2.49                    |\n",
            "|Hunedoara     |818.17                  |2.72                    |\n",
            "+--------------+------------------------+------------------------+\n",
            "only showing top 20 rows\n",
            "\n"
          ]
        }
      ]
    },
    {
      "cell_type": "code",
      "source": [
        "#filter rows where the value in the \"Annual\" column is greater than 800:\n",
        "filtered_df = df.filter(df[\"Annual\"] > 800)\n",
        "filtered_df.show()\n"
      ],
      "metadata": {
        "colab": {
          "base_uri": "https://localhost:8080/"
        },
        "id": "W2yVx9Goqs1A",
        "outputId": "fc4b137e-9503-4ddd-e027-ba18ae7b7d57"
      },
      "execution_count": null,
      "outputs": [
        {
          "output_type": "stream",
          "name": "stdout",
          "text": [
            "+------+--------------+-------------+---------+------+-----+-----+-----+-----+-----+------+------+-----+-----+-----+-----+-----+-----------------+\n",
            "|Number|County/Country|     Variable|   Period|Annual|  Jan|  Feb|  Mar|  Apr|  May|   Jun|   Jul|  Aug|  Sep|  Oct|  Nov|  Dec|   Number_country|\n",
            "+------+--------------+-------------+---------+------+-----+-----+-----+-----+-----+------+------+-----+-----+-----+-----+-----+-----------------+\n",
            "|     8|     Maramures|Precipitation|1901-1930|870.13|53.48|44.22|48.22| 70.4|91.77|117.75| 98.24|97.32|67.59|66.91| 58.6|55.64|      8 Maramures|\n",
            "|    15|     Hunedoara|Precipitation|1901-1930|801.01|42.16|39.45|40.01|63.79|93.63| 119.8|  95.7|86.04|65.62|62.55|47.04|45.22|     15 Hunedoara|\n",
            "|    50|     Maramures|Precipitation|1931-1960|842.96|53.05|50.64|44.08|62.58|90.19|114.34| 98.54|94.48|56.91|64.85|57.81|55.49|     50 Maramures|\n",
            "|    57|     Hunedoara|Precipitation|1931-1960|801.05|43.88|45.83|40.01|61.12| 99.4|117.06| 94.27|81.42|57.55| 62.0|51.62|46.88|     57 Hunedoara|\n",
            "|    92|     Maramures|Precipitation|1961-1990|829.14|51.58|43.61|47.46| 64.1|95.95|117.89| 103.3|87.81|53.67|48.11|54.65|61.02|     92 Maramures|\n",
            "|   134|     Maramures|Precipitation|1991-2020|843.74| 47.9|45.93|50.89|61.79|96.14|108.59|103.74|84.48|68.24|64.18|52.18|59.68|    134 Maramures|\n",
            "|   141|     Hunedoara|Precipitation|1991-2020|818.17|41.07|43.43|45.93|61.11|95.74|117.64|101.83| 78.7|73.69|63.37|45.44|50.23|    141 Hunedoara|\n",
            "|   158| Caras-severin|Precipitation|1991-2020|804.83|44.47|46.16|47.17| 60.5|92.23|113.02| 91.04|72.06|74.18| 61.9|48.11|53.99|158 Caras-severin|\n",
            "+------+--------------+-------------+---------+------+-----+-----+-----+-----+-----+------+------+-----+-----+-----+-----+-----+-----------------+\n",
            "\n"
          ]
        }
      ]
    },
    {
      "cell_type": "code",
      "source": [
        "# the value in the \"Annual\" column is greater than 700 and the \"County/Country\" column is \"Maramures\":\n",
        "filtered_df = df.filter((df[\"Annual\"] > 700) & (df[\"County/Country\"] == \"Maramures\"))\n",
        "filtered_df.show()\n"
      ],
      "metadata": {
        "colab": {
          "base_uri": "https://localhost:8080/"
        },
        "id": "XT6qYDtArbgU",
        "outputId": "9579e176-3a54-4582-c2f0-ead9face6ccd"
      },
      "execution_count": null,
      "outputs": [
        {
          "output_type": "stream",
          "name": "stdout",
          "text": [
            "+------+--------------+-------------+---------+------+-----+-----+-----+-----+-----+------+------+-----+-----+-----+-----+-----+--------------+\n",
            "|Number|County/Country|     Variable|   Period|Annual|  Jan|  Feb|  Mar|  Apr|  May|   Jun|   Jul|  Aug|  Sep|  Oct|  Nov|  Dec|Number_country|\n",
            "+------+--------------+-------------+---------+------+-----+-----+-----+-----+-----+------+------+-----+-----+-----+-----+-----+--------------+\n",
            "|     8|     Maramures|Precipitation|1901-1930|870.13|53.48|44.22|48.22| 70.4|91.77|117.75| 98.24|97.32|67.59|66.91| 58.6|55.64|   8 Maramures|\n",
            "|    50|     Maramures|Precipitation|1931-1960|842.96|53.05|50.64|44.08|62.58|90.19|114.34| 98.54|94.48|56.91|64.85|57.81|55.49|  50 Maramures|\n",
            "|    92|     Maramures|Precipitation|1961-1990|829.14|51.58|43.61|47.46| 64.1|95.95|117.89| 103.3|87.81|53.67|48.11|54.65|61.02|  92 Maramures|\n",
            "|   134|     Maramures|Precipitation|1991-2020|843.74| 47.9|45.93|50.89|61.79|96.14|108.59|103.74|84.48|68.24|64.18|52.18|59.68| 134 Maramures|\n",
            "+------+--------------+-------------+---------+------+-----+-----+-----+-----+-----+------+------+-----+-----+-----+-----+-----+--------------+\n",
            "\n"
          ]
        }
      ]
    },
    {
      "cell_type": "markdown",
      "source": [
        "**Calculate the Average Annual Precipitation for each Period** (LINE CHART )\n",
        "\n",
        "\n",
        "\n",
        "*   x-axis represents each period\n",
        "*   y-axis shows the average annual precipitation\n",
        "\n",
        "\n"
      ],
      "metadata": {
        "id": "_T0hPW605wMj"
      }
    },
    {
      "cell_type": "code",
      "source": [
        "import matplotlib.pyplot as plt\n",
        "from pyspark.sql.functions import avg\n",
        "\n",
        "# Step 1: Calculate average annual precipitation by period\n",
        "# Group by 'Period' and calculate the average 'Annual' precipitation\n",
        "period_avg_precipitation = df.groupBy(\"Period\").agg(avg(\"Annual\").alias(\"Average_Annual_Precipitation\"))\n",
        "\n",
        "# Step 2: Collect the data to a Pandas DataFrame for plotting\n",
        "period_data = period_avg_precipitation.toPandas()\n",
        "\n",
        "# Step 3: Sort the data by Period for a proper trend line\n",
        "period_data = period_data.sort_values(\"Period\")\n",
        "\n",
        "# Step 4: Plot the data\n",
        "plt.figure(figsize=(10, 6))\n",
        "plt.plot(period_data[\"Period\"], period_data[\"Average_Annual_Precipitation\"], marker='o', color='b', linestyle='-')\n",
        "plt.xlabel(\"Period\")\n",
        "plt.ylabel(\"Average Annual Precipitation\")\n",
        "plt.title(\"Annual Precipitation Trends by Period\")\n",
        "plt.xticks(rotation=45)  # Rotate x-axis labels for better readability\n",
        "plt.grid(True)\n",
        "plt.show()\n"
      ],
      "metadata": {
        "colab": {
          "base_uri": "https://localhost:8080/",
          "height": 614
        },
        "id": "iqYXepb8nymt",
        "outputId": "a8a39798-9ed3-430d-9998-63d5cf317a40"
      },
      "execution_count": null,
      "outputs": [
        {
          "output_type": "display_data",
          "data": {
            "text/plain": [
              "<Figure size 1000x600 with 1 Axes>"
            ],
            "image/png": "[encoded data removed]"
          },
          "metadata": {}
        }
      ]
    },
    {
      "cell_type": "markdown",
      "source": [
        "**Top 5 Counties with Highest Annual Precipitation** (BAR CHART)"
      ],
      "metadata": {
        "id": "SiE7UIN18hkj"
      }
    },
    {
      "cell_type": "code",
      "source": [
        "# Importing the necessary library for data visualization\n",
        "import matplotlib.pyplot as plt\n",
        "# Importing the 'avg' function from PySpark SQL functions for calculating the average of a column\n",
        "from pyspark.sql.functions import avg\n",
        "\n",
        "# Group data by County/Country and calculate the average annual precipitation\n",
        "country_avg_precipitation = df.groupBy(\"County/Country\").agg(avg(\"Annual\").alias(\"Average_Annual_Precipitation\"))\n",
        "\n",
        "# Sort by average precipitation in descending order and select the top 5 counties\n",
        "top5_countries = country_avg_precipitation.orderBy(\"Average_Annual_Precipitation\", ascending=False).limit(5)\n",
        "\n",
        "# Convert to Pandas DataFrame for plotting\n",
        "top5_data = top5_countries.toPandas()\n",
        "\n",
        "# Plotting\n",
        "plt.figure(figsize=(10, 6))  # Set figure size\n",
        "plt.bar(top5_data[\"County/Country\"], top5_data[\"Average_Annual_Precipitation\"], color='skyblue')  # Create bar chart\n",
        "plt.xlabel(\"County/Country\")  # Label x-axis\n",
        "plt.ylabel(\"Average Annual Precipitation\")  # Label y-axis\n",
        "plt.title(\"Top 5 Counties with Highest Annual Precipitation\")  # Title for the chart\n",
        "plt.xticks(rotation=45)  # Rotate x-axis labels for readability\n",
        "plt.show()  # Display chart\n"
      ],
      "metadata": {
        "colab": {
          "base_uri": "https://localhost:8080/",
          "height": 635
        },
        "id": "E0O6sARfp1Mu",
        "outputId": "fae7f529-bf35-4982-a5c1-e8f25da4ca48"
      },
      "execution_count": null,
      "outputs": [
        {
          "output_type": "display_data",
          "data": {
            "text/plain": [
              "<Figure size 1000x600 with 1 Axes>"
            ],
            "image/png": "[encoded data removed]"
          },
          "metadata": {}
        }
      ]
    },
    {
      "cell_type": "markdown",
      "source": [
        "**Top 5 Counties with Highest Annual Precipitation** (PIE CHART)"
      ],
      "metadata": {
        "id": "qJNZ2DcO9GPK"
      }
    },
    {
      "cell_type": "code",
      "source": [
        "# Importing the necessary library for data visualization\n",
        "import matplotlib.pyplot as plt\n",
        "# Importing the 'avg' function from PySpark SQL functions for calculating the average of a column\n",
        "from pyspark.sql.functions import avg\n",
        "\n",
        "# Group data by County/Country and calculate the average annual precipitation\n",
        "country_avg_precipitation = df.groupBy(\"County/Country\").agg(avg(\"Annual\").alias(\"Average_Annual_Precipitation\"))\n",
        "\n",
        "# Sort by average precipitation in descending order and select the top 5 counties\n",
        "top5_countries = country_avg_precipitation.orderBy(\"Average_Annual_Precipitation\", ascending=False).limit(5)\n",
        "\n",
        "# Convert to Pandas DataFrame for plotting\n",
        "top5_data = top5_countries.toPandas()\n",
        "\n",
        "# Plotting\n",
        "plt.figure(figsize=(6, 6))  # Set figure size for the pie chart\n",
        "plt.pie(top5_data[\"Average_Annual_Precipitation\"], labels=top5_data[\"County/Country\"], autopct='%1.1f%%', startangle=140, colors=plt.cm.Paired.colors)\n",
        "plt.title(\"Top 5 Counties with Highest Annual Precipitation\")  # Title for the chart\n",
        "plt.axis('equal')  # Equal aspect ratio ensures that pie is drawn as a circle.\n",
        "plt.show()  # Display chart\n"
      ],
      "metadata": {
        "colab": {
          "base_uri": "https://localhost:8080/",
          "height": 521
        },
        "id": "Hxfua8Pdx2F3",
        "outputId": "3c90a7fe-f57d-4292-93f4-bbc7a7d15d80"
      },
      "execution_count": null,
      "outputs": [
        {
          "output_type": "display_data",
          "data": {
            "text/plain": [
              "<Figure size 600x600 with 1 Axes>"
            ],
            "image/png": "[encoded data removed]"
          },
          "metadata": {}
        }
      ]
    }
  ]
}